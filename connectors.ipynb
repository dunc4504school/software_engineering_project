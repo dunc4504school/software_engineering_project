{
 "cells": [
  {
   "cell_type": "markdown",
   "metadata": {},
   "source": [
    "#TEMPORARY CODE"
   ]
  },
  {
   "cell_type": "code",
   "execution_count": 1,
   "metadata": {},
   "outputs": [],
   "source": [
    "#CODE TO CREATE AN CONNECTION OF DATABASE - WILL BE PLACED SOMEWHERE\n",
    "\n",
    "from database import database\n",
    "import sql_queries as sq\n",
    "\n",
    "database_instance = database('cp317_final','postgres','password','localhost','5432')\n",
    "conn, cur = database_instance.get_instance()"
   ]
  },
  {
   "cell_type": "code",
   "execution_count": 2,
   "metadata": {},
   "outputs": [
    {
     "name": "stdout",
     "output_type": "stream",
     "text": [
      "TRUE-Second Time\n"
     ]
    }
   ],
   "source": [
    "#Account 1: Create Account\n",
    "\n",
    "#imagine someone already has the username\n",
    "cur.execute(sq.add_account(), (\"Luke\", \"ldunc\", \"ldunc342@gmail.com\", \"9034233931\", \"oth\"))\n",
    "\n",
    "#Attempting to create new account\n",
    "cur.execute(sq.add_account(), (\"Lucas\", \"ldunc\", \"ldunc19@hotmail.com\", \"9032023931\", \"pass\"))\n",
    "conn.commit()\n",
    "\n",
    "#Mark whether succeeded\n",
    "if cur.rowcount > 0:  print(\"TRUE\")\n",
    "\n",
    "#When it fails, try again with anouther\n",
    "cur.execute(sq.add_account(), (\"Lucas\", \"ldunc01\", \"ldunc19@hotmail.com\", \"9032023931\", \"pass\"))\n",
    "conn.commit()\n",
    "\n",
    "#Mark whether succeeded\n",
    "if cur.rowcount > 0:  print(\"TRUE-Second Time\")"
   ]
  },
  {
   "cell_type": "code",
   "execution_count": 3,
   "metadata": {},
   "outputs": [
    {
     "name": "stdout",
     "output_type": "stream",
     "text": [
      "WRONG\n",
      "(39, 'Lucas', 'ldunc01', datetime.date(2024, 11, 20), 'ldunc19@hotmail.com', '9032023931', 'pass', 0, 0, 0)\n",
      "SIGNED IN\n"
     ]
    }
   ],
   "source": [
    "#Account 2: Demonstrating Log Into Existing Account\n",
    "\n",
    "cur.execute(sq.attempt_login(), (\"kdunc01\", \"pass\"))\n",
    "row = cur.fetchone()\n",
    "\n",
    "if row:\n",
    "    print(\"SIGNED IN\")\n",
    "else:\n",
    "    print(\"WRONG\")\n",
    "\n",
    "cur.execute(sq.attempt_login(), (\"ldunc01\", \"pass\"))\n",
    "row = cur.fetchone()\n",
    "print(row)\n",
    "\n",
    "if row:\n",
    "    print(\"SIGNED IN\")\n",
    "else:\n",
    "    print(\"WRONG\")"
   ]
  },
  {
   "cell_type": "code",
   "execution_count": 4,
   "metadata": {},
   "outputs": [],
   "source": [
    "our_account_id = row[0]"
   ]
  },
  {
   "cell_type": "code",
   "execution_count": 5,
   "metadata": {},
   "outputs": [
    {
     "name": "stdout",
     "output_type": "stream",
     "text": [
      "(31, 'Lucas Duncan', 'TESTINGLucas Duncan', 11, 1, 3, 6.2727272727272725)\n",
      "(35, 'Bertha Blue', 'TESTINGBertha Blue', 10, 3, 4, 8.0)\n",
      "(32, 'John Doe', 'TESTINGJohn Doe', 9, 6, 2, 5.777777777777778)\n",
      "(36, 'Tiffany Stoik', 'TESTINGTiffany Stoik', 10, 5, 7, 3.9)\n",
      "(34, 'Kylie Tan', 'TESTINGKylie Tan', 8, 2, 6, 5.5)\n",
      "(29, 'Hashim Jama', 'TESTINGHashim Jama', 13, 3, 3, 5.3076923076923075)\n",
      "(30, 'Zach Reid', 'TESTINGZach Reid', 8, 3, 5, 5.875)\n",
      "(28, 'Gavin Heslip', 'TESTINGGavin Heslip', 8, 4, 3, 6.625)\n",
      "(27, 'Venkat Gunturi', 'TESTINGVenkat Gunturi', 11, 5, 5, 6.2727272727272725)\n",
      "(33, 'Jane Smith', 'TESTINGJane Smith', 8, 8, 2, 5.875)\n",
      "31\n"
     ]
    }
   ],
   "source": [
    "#Search Account By Name\n",
    "cur.execute(sq.get_searched_account(),(\"%TESTING%\",))\n",
    "possible_matchs = cur.fetchall()\n",
    "\n",
    "for match in possible_matchs:\n",
    "    print(match)\n",
    "\n",
    "#the one we want\n",
    "account_id_selected = possible_matchs[0][0]\n",
    "print(account_id_selected)"
   ]
  },
  {
   "cell_type": "code",
   "execution_count": 6,
   "metadata": {},
   "outputs": [],
   "source": [
    "#Start Following \n",
    "cur.execute(sq.add_following(), (our_account_id, account_id_selected))"
   ]
  },
  {
   "cell_type": "code",
   "execution_count": 7,
   "metadata": {},
   "outputs": [
    {
     "name": "stdout",
     "output_type": "stream",
     "text": [
      "[(31, 'Lucas Duncan', 'TESTINGLucas Duncan', 11, 2, 3, 6.2727272727272725)]\n",
      "[(39, 'Lucas', 'ldunc01', '9032023931', 'ldunc19@hotmail.com', 0, 0, 1, None)]\n"
     ]
    }
   ],
   "source": [
    "#Get Their Account Info\n",
    "cur.execute(sq.get_account_summary(), (account_id_selected,))\n",
    "print(cur.fetchall())\n",
    "\n",
    "#Get Account Info For Our Account\n",
    "cur.execute(sq.get_self_summary(), (our_account_id,))\n",
    "print(cur.fetchall())"
   ]
  },
  {
   "cell_type": "code",
   "execution_count": 8,
   "metadata": {},
   "outputs": [
    {
     "name": "stdout",
     "output_type": "stream",
     "text": [
      "('The Dark Knight', 8.0, 1.3333335, 'TESTING', 'Action', 'Movie')\n",
      "('Forrest Gump', 2.0, -4.0, 'TESTING', 'Drama', 'Movie')\n",
      "('Goodfellas', 7.0, 0.6666665, 'TESTING', 'Crime', 'Movie')\n",
      "('The Lord of the Rings: The Fellowship of the Ring', 7.0, 1.4000001, 'TESTING', 'Fantasy', 'Movie')\n",
      "('Star Wars: Episode V - The Empire Strikes Back', 4.0, -1.3333335, 'TESTING', 'Fantasy', 'Movie')\n",
      "('The Green Mile', 7.0, 0.0, 'TESTING', 'Drama', 'Movie')\n",
      "('Gladiator', 8.0, 0.55555534, 'TESTING', 'Action', 'Movie')\n",
      "('Interstellar', 10.0, 2.625, 'TESTING', 'Sci-Fi', 'Movie')\n",
      "('The Lion King', 7.0, 1.3333335, 'TESTING', 'Animation', 'Movie')\n",
      "('Saving Private Ryan', 1.0, -1.8571429, 'TESTING', 'War', 'Movie')\n",
      "('The Departed', 8.0, 2.7142854, 'TESTING', 'Crime', 'Movie')\n"
     ]
    }
   ],
   "source": [
    "#Get List Of Reviews Made By Account (for account info of self or others)\n",
    "\n",
    "cur.execute(sq.get_account_review(),(account_id_selected,))\n",
    "reviews = cur.fetchall()\n",
    "\n",
    "for review in reviews:\n",
    "    print(review)"
   ]
  },
  {
   "cell_type": "code",
   "execution_count": 9,
   "metadata": {},
   "outputs": [
    {
     "name": "stdout",
     "output_type": "stream",
     "text": [
      "(27, 'Venkat Gunturi', 11, 5, 5)\n",
      "(39, 'Lucas', 0, 1, 0)\n"
     ]
    }
   ],
   "source": [
    "#Get List of follows\n",
    "cur.execute(sq.get_account_follows(), (account_id_selected,))\n",
    "follows = cur.fetchall()\n",
    "\n",
    "for follow in follows:\n",
    "    print(follow)\n"
   ]
  },
  {
   "cell_type": "code",
   "execution_count": 10,
   "metadata": {},
   "outputs": [
    {
     "name": "stdout",
     "output_type": "stream",
     "text": [
      "(36, 'Tiffany Stoik', 10, 7, 5)\n",
      "(27, 'Venkat Gunturi', 11, 5, 5)\n",
      "(33, 'Jane Smith', 8, 2, 8)\n"
     ]
    }
   ],
   "source": [
    "#Get list of followers\n",
    "cur.execute(sq.get_account_following(), (account_id_selected,))\n",
    "followings = cur.fetchall()\n",
    "\n",
    "for following in followings:\n",
    "    print(following)"
   ]
  },
  {
   "cell_type": "code",
   "execution_count": 11,
   "metadata": {},
   "outputs": [
    {
     "name": "stdout",
     "output_type": "stream",
     "text": [
      "(43, 'The Dark Knight', 5, 31, datetime.date(2069, 1, 10), 'TESTING', 'TESTING', 6.6666665, 3)\n",
      "(42, 'The Godfather', 5, 36, datetime.date(2069, 1, 10), 'TESTING', 'TESTING', 8.0, 2)\n",
      "(54, 'The Green Mile', 5, 35, datetime.date(2069, 1, 10), 'TESTING', 'TESTING', 7.0, 2)\n",
      "(51, 'Star Wars: Episode V - The Empire Strikes Back', 5, 30, datetime.date(2069, 1, 10), 'TESTING', 'TESTING', 5.3333335, 9)\n",
      "(59, 'The Departed', 5, 36, datetime.date(2069, 1, 10), 'TESTING', 'TESTING', 5.2857146, 7)\n",
      "(52, 'The Silence of the Lambs', 5, 38, datetime.date(2069, 1, 10), 'TESTING', 'TESTING', 5.25, 4)\n",
      "(57, 'The Lion King', 5, 40, datetime.date(2069, 1, 10), 'TESTING', 'TESTING', 5.6666665, 9)\n",
      "(50, 'The Lord of the Rings: The Fellowship of the Ring', 5, 30, datetime.date(2069, 1, 10), 'TESTING', 'TESTING', 5.6, 5)\n",
      "(48, 'The Matrix', 5, 31, datetime.date(2069, 1, 10), 'TESTING', 'TESTING', 6.0, 2)\n",
      "(41, 'The Shawshank Redemption', 5, 35, datetime.date(2069, 1, 10), 'TESTING', 'TESTING', 6.5, 2)\n"
     ]
    }
   ],
   "source": [
    "#Add A review (1)\n",
    "\n",
    "#search for a name,\n",
    "cur.execute(sq.get_searched_media(), ('%The%',))\n",
    "media = cur.fetchall()\n",
    "\n",
    "for single_media in media:\n",
    "    print(single_media)\n",
    "\n",
    "id_of_media_we_want_to_review = media[2][0]"
   ]
  },
  {
   "cell_type": "code",
   "execution_count": 12,
   "metadata": {},
   "outputs": [],
   "source": [
    "#Add A review (2)\n",
    "\n",
    "#Upload review\n",
    "cur.execute(sq.add_review(), (our_account_id, id_of_media_we_want_to_review, 7.5, \"This Movie Was Good\"))\n",
    "conn.commit()"
   ]
  },
  {
   "cell_type": "code",
   "execution_count": 13,
   "metadata": {},
   "outputs": [
    {
     "name": "stdout",
     "output_type": "stream",
     "text": [
      "('Movie', 'Action', 'The Dark Knight', 'Lucas Duncan', 8.0, 1.3333335, 'TESTING')\n",
      "('Movie', 'Drama', 'Forrest Gump', 'Lucas Duncan', 2.0, -4.0, 'TESTING')\n",
      "('Movie', 'Crime', 'Goodfellas', 'Lucas Duncan', 7.0, 0.6666665, 'TESTING')\n",
      "('Movie', 'Fantasy', 'The Lord of the Rings: The Fellowship of the Ring', 'Lucas Duncan', 7.0, 1.4000001, 'TESTING')\n",
      "('Movie', 'Fantasy', 'Star Wars: Episode V - The Empire Strikes Back', 'Lucas Duncan', 4.0, -1.3333335, 'TESTING')\n",
      "('Movie', 'Drama', 'The Green Mile', 'Lucas Duncan', 7.0, -0.16666651, 'TESTING')\n",
      "('Movie', 'Action', 'Gladiator', 'Lucas Duncan', 8.0, 0.55555534, 'TESTING')\n",
      "('Movie', 'Sci-Fi', 'Interstellar', 'Lucas Duncan', 10.0, 2.625, 'TESTING')\n",
      "('Movie', 'Animation', 'The Lion King', 'Lucas Duncan', 7.0, 1.3333335, 'TESTING')\n",
      "('Movie', 'War', 'Saving Private Ryan', 'Lucas Duncan', 1.0, -1.8571429, 'TESTING')\n",
      "('Movie', 'Crime', 'The Departed', 'Lucas Duncan', 8.0, 2.7142854, 'TESTING')\n"
     ]
    }
   ],
   "source": [
    "#Get Recent Activity Among Followers\n",
    "cur.execute(sq.get_account_recent(), (our_account_id,))\n",
    "\n",
    "for recent in cur.fetchall():\n",
    "    print(recent)"
   ]
  },
  {
   "cell_type": "code",
   "execution_count": 14,
   "metadata": {},
   "outputs": [],
   "source": [
    "#Delete A Following()\n",
    "cur.execute(sq.delete_following(),(our_account_id, account_id_selected))\n",
    "conn.commit()"
   ]
  },
  {
   "cell_type": "code",
   "execution_count": 15,
   "metadata": {},
   "outputs": [
    {
     "name": "stdout",
     "output_type": "stream",
     "text": [
      "[(54, 'The Green Mile', 5, 35, datetime.date(2069, 1, 10), 'TESTING', 'TESTING', 7.1666665, 3)]\n"
     ]
    }
   ],
   "source": [
    "#Get Media Details Given Its Id\n",
    "\n",
    "cur.execute(sq.get_media(), (id_of_media_we_want_to_review,))\n",
    "print(cur.fetchall())"
   ]
  }
 ],
 "metadata": {
  "kernelspec": {
   "display_name": "Python 3",
   "language": "python",
   "name": "python3"
  },
  "language_info": {
   "codemirror_mode": {
    "name": "ipython",
    "version": 3
   },
   "file_extension": ".py",
   "mimetype": "text/x-python",
   "name": "python",
   "nbconvert_exporter": "python",
   "pygments_lexer": "ipython3",
   "version": "3.11.5"
  }
 },
 "nbformat": 4,
 "nbformat_minor": 2
}
