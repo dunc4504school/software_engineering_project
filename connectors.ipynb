{
 "cells": [
  {
   "cell_type": "markdown",
   "metadata": {},
   "source": [
    "#TEMPORARY CODE"
   ]
  },
  {
   "cell_type": "code",
   "execution_count": 1,
   "metadata": {},
   "outputs": [],
   "source": [
    "#CODE TO CREATE AN CONNECTION OF DATABASE - WILL BE PLACED SOMEWHERE\n",
    "\n",
    "from database import database\n",
    "import sql_queries as sq\n",
    "\n",
    "database_instance = database('cp317_final','postgres','password','localhost','5432')\n",
    "conn, cur = database_instance.get_instance()"
   ]
  },
  {
   "cell_type": "code",
   "execution_count": 2,
   "metadata": {},
   "outputs": [
    {
     "name": "stdout",
     "output_type": "stream",
     "text": [
      "TRUE-Second Time\n"
     ]
    }
   ],
   "source": [
    "#Account 1: Create Account\n",
    "\n",
    "#imagine someone already has the username\n",
    "cur.execute(sq.add_account(), (\"Luke\", \"ldunc\", \"ldunc342@gmail.com\", \"9034233931\", \"oth\"))\n",
    "\n",
    "#Attempting to create new account\n",
    "cur.execute(sq.add_account(), (\"Lucas\", \"ldunc\", \"ldunc19@hotmail.com\", \"9032023931\", \"pass\"))\n",
    "conn.commit()\n",
    "\n",
    "#Mark whether succeeded\n",
    "if cur.rowcount > 0:  print(\"TRUE\")\n",
    "\n",
    "#When it fails, try again with anouther\n",
    "cur.execute(sq.add_account(), (\"Lucas\", \"ldunc01\", \"ldunc19@hotmail.com\", \"9032023931\", \"pass\"))\n",
    "conn.commit()\n",
    "\n",
    "#Mark whether succeeded\n",
    "if cur.rowcount > 0:  print(\"TRUE-Second Time\")"
   ]
  },
  {
   "cell_type": "code",
   "execution_count": 3,
   "metadata": {},
   "outputs": [
    {
     "name": "stdout",
     "output_type": "stream",
     "text": [
      "WRONG\n",
      "(376, 'Lucas', 'ldunc01', datetime.date(2024, 11, 20), 'ldunc19@hotmail.com', '9032023931', 0, 0, 0, 'pass')\n",
      "SIGNED IN\n"
     ]
    }
   ],
   "source": [
    "#Account 2: Demonstrating Log Into Existing Account\n",
    "\n",
    "cur.execute(sq.attempt_login(), (\"kdunc01\", \"pass\"))\n",
    "row = cur.fetchone()\n",
    "\n",
    "if row:\n",
    "    print(\"SIGNED IN\")\n",
    "else:\n",
    "    print(\"WRONG\")\n",
    "\n",
    "cur.execute(sq.attempt_login(), (\"ldunc01\", \"pass\"))\n",
    "row = cur.fetchone()\n",
    "print(row)\n",
    "\n",
    "if row:\n",
    "    print(\"SIGNED IN\")\n",
    "else:\n",
    "    print(\"WRONG\")"
   ]
  },
  {
   "cell_type": "code",
   "execution_count": 4,
   "metadata": {},
   "outputs": [
    {
     "name": "stdout",
     "output_type": "stream",
     "text": [
      "(372, 'Bertha Blue', 'TESTINGBertha Blue', 10, 5, 8, 4.0)\n",
      "(369, 'John Doe', 'TESTINGJohn Doe', 14, 6, 4, 4.857142857142857)\n",
      "(365, 'Gavin Heslip', 'TESTINGGavin Heslip', 12, 3, 7, 6.25)\n",
      "(364, 'Venkat Gunturi', 'TESTINGVenkat Gunturi', 12, 3, 6, 6.666666666666667)\n",
      "(368, 'Lucas Duncan', 'TESTINGLucas Duncan', 13, 5, 6, 5.384615384615385)\n",
      "(367, 'Zach Reid', 'TESTINGZach Reid', 13, 4, 5, 6.230769230769231)\n",
      "(373, 'Tiffany Stoik', 'TESTINGTiffany Stoik', 11, 5, 2, 4.363636363636363)\n",
      "(370, 'Jane Smith', 'TESTINGJane Smith', 10, 7, 6, 6.2)\n",
      "(366, 'Hashim Jama', 'TESTINGHashim Jama', 12, 2, 1, 5.083333333333333)\n",
      "(371, 'Kylie Tan', 'TESTINGKylie Tan', 13, 8, 3, 4.846153846153846)\n",
      "372\n"
     ]
    }
   ],
   "source": [
    "#Search By Name\n",
    "cur.execute(sq.get_searched_account(),(\"%TESTING%\",))\n",
    "possible_matchs = cur.fetchall()\n",
    "\n",
    "for match in possible_matchs:\n",
    "    print(match)\n",
    "\n",
    "#the one we want\n",
    "id = possible_matchs[0][0]\n",
    "print(id)"
   ]
  },
  {
   "cell_type": "code",
   "execution_count": 5,
   "metadata": {},
   "outputs": [],
   "source": [
    "#Start Following \n",
    "cur.execute(sq.add_following(), (row[0], id))"
   ]
  },
  {
   "cell_type": "code",
   "execution_count": 6,
   "metadata": {},
   "outputs": [
    {
     "name": "stdout",
     "output_type": "stream",
     "text": [
      "[(372, 'Bertha Blue', 'TESTINGBertha Blue', 10, 6, 8, 4.0)]\n",
      "[(376, 'Lucas', 'ldunc01', '9032023931', 'ldunc19@hotmail.com', 0, 0, 1, None)]\n"
     ]
    }
   ],
   "source": [
    "#Get Their Account Info\n",
    "cur.execute(sq.get_account_summary(), (id,))\n",
    "print(cur.fetchall())\n",
    "\n",
    "#Get Account Info For Our Account\n",
    "cur.execute(sq.get_self_summary(), (row[0],))\n",
    "print(cur.fetchall())"
   ]
  },
  {
   "cell_type": "code",
   "execution_count": 7,
   "metadata": {},
   "outputs": [
    {
     "name": "stdout",
     "output_type": "stream",
     "text": [
      "('The Shawshank Redemption', 3.0, None, 'TESTING', 'Drama', 'Movie')\n",
      "('The Dark Knight', 4.0, None, 'TESTING', 'Action', 'Movie')\n",
      "('Forrest Gump', 6.0, None, 'TESTING', 'Drama', 'Movie')\n",
      "('Inception', 2.0, None, 'TESTING', 'Sci-Fi', 'Movie')\n",
      "('Goodfellas', 1.0, None, 'TESTING', 'Crime', 'Movie')\n",
      "('The Lord of the Rings: The Fellowship of the Ring', 8.0, None, 'TESTING', 'Fantasy', 'Movie')\n",
      "('Star Wars: Episode V - The Empire Strikes Back', 1.0, None, 'TESTING', 'Fantasy', 'Movie')\n",
      "(\"Schindler's List\", 4.0, None, 'TESTING', 'History', 'Movie')\n",
      "('The Green Mile', 4.0, None, 'TESTING', 'Drama', 'Movie')\n",
      "('Gladiator', 7.0, None, 'TESTING', 'Action', 'Movie')\n"
     ]
    }
   ],
   "source": [
    "#Get List Of Reviews (for account info of self or others)\n",
    "\n",
    "cur.execute(sq.get_account_review(),(id,))\n",
    "reviews = cur.fetchall()\n",
    "\n",
    "for review in reviews:\n",
    "    print(review)"
   ]
  },
  {
   "cell_type": "code",
   "execution_count": 8,
   "metadata": {},
   "outputs": [
    {
     "name": "stdout",
     "output_type": "stream",
     "text": [
      "(365, 'Gavin Heslip', 12, 7, 3)\n",
      "(364, 'Venkat Gunturi', 12, 6, 3)\n",
      "(368, 'Lucas Duncan', 13, 6, 5)\n",
      "(367, 'Zach Reid', 13, 5, 4)\n",
      "(370, 'Jane Smith', 10, 6, 7)\n",
      "(376, 'Lucas', 0, 1, 0)\n"
     ]
    }
   ],
   "source": [
    "#Get List of follows\n",
    "cur.execute(sq.get_account_follows(), (id,))\n",
    "follows = cur.fetchall()\n",
    "\n",
    "for follow in follows:\n",
    "    print(follow)\n"
   ]
  },
  {
   "cell_type": "code",
   "execution_count": 9,
   "metadata": {},
   "outputs": [
    {
     "name": "stdout",
     "output_type": "stream",
     "text": [
      "(369, 'John Doe', 14, 4, 6)\n",
      "(365, 'Gavin Heslip', 12, 7, 3)\n",
      "(368, 'Lucas Duncan', 13, 6, 5)\n",
      "(367, 'Zach Reid', 13, 5, 4)\n",
      "(373, 'Tiffany Stoik', 11, 2, 5)\n",
      "(370, 'Jane Smith', 10, 6, 7)\n",
      "(366, 'Hashim Jama', 12, 1, 2)\n",
      "(371, 'Kylie Tan', 13, 3, 8)\n"
     ]
    }
   ],
   "source": [
    "#Get list of followers\n",
    "cur.execute(sq.get_account_following(), (id,))\n",
    "followings = cur.fetchall()\n",
    "\n",
    "for following in followings:\n",
    "    print(following)"
   ]
  },
  {
   "cell_type": "code",
   "execution_count": 10,
   "metadata": {},
   "outputs": [
    {
     "name": "stdout",
     "output_type": "stream",
     "text": [
      "(572, 'The Silence of the Lambs', 57, 402, datetime.date(2069, 1, 10), 'TESTING', 'TESTING', None, None)\n",
      "(571, 'Star Wars: Episode V - The Empire Strikes Back', 57, 394, datetime.date(2069, 1, 10), 'TESTING', 'TESTING', None, None)\n",
      "(561, 'The Shawshank Redemption', 57, 399, datetime.date(2069, 1, 10), 'TESTING', 'TESTING', None, None)\n",
      "(574, 'The Green Mile', 57, 399, datetime.date(2069, 1, 10), 'TESTING', 'TESTING', None, None)\n",
      "(568, 'The Matrix', 57, 395, datetime.date(2069, 1, 10), 'TESTING', 'TESTING', None, None)\n",
      "(563, 'The Dark Knight', 57, 395, datetime.date(2069, 1, 10), 'TESTING', 'TESTING', None, None)\n",
      "(570, 'The Lord of the Rings: The Fellowship of the Ring', 57, 394, datetime.date(2069, 1, 10), 'TESTING', 'TESTING', None, None)\n",
      "(562, 'The Godfather', 57, 400, datetime.date(2069, 1, 10), 'TESTING', 'TESTING', None, None)\n",
      "(579, 'The Departed', 57, 400, datetime.date(2069, 1, 10), 'TESTING', 'TESTING', None, None)\n",
      "(577, 'The Lion King', 57, 404, datetime.date(2069, 1, 10), 'TESTING', 'TESTING', None, None)\n"
     ]
    }
   ],
   "source": [
    "#Add A review (1)\n",
    "\n",
    "#search for a name,\n",
    "cur.execute(sq.get_searched_media(), ('%The%',))\n",
    "media = cur.fetchall()\n",
    "\n",
    "for single_media in media:\n",
    "    print(single_media)\n",
    "\n",
    "id_we_want = media[2][0]"
   ]
  },
  {
   "cell_type": "code",
   "execution_count": 11,
   "metadata": {},
   "outputs": [],
   "source": [
    "#Add A review (2)\n",
    "\n",
    "#Upload review\n",
    "cur.execute(sq.add_review(), (row[0], id_we_want, 7.5, \"This Movie Was Good\"))\n",
    "conn.commit()"
   ]
  },
  {
   "cell_type": "code",
   "execution_count": 12,
   "metadata": {},
   "outputs": [
    {
     "name": "stdout",
     "output_type": "stream",
     "text": [
      "('Movie', 'Drama', 'The Shawshank Redemption', 'Bertha Blue', 3.0, None, 'TESTING')\n",
      "('Movie', 'Action', 'The Dark Knight', 'Bertha Blue', 4.0, None, 'TESTING')\n",
      "('Movie', 'Drama', 'Forrest Gump', 'Bertha Blue', 6.0, None, 'TESTING')\n",
      "('Movie', 'Sci-Fi', 'Inception', 'Bertha Blue', 2.0, None, 'TESTING')\n",
      "('Movie', 'Crime', 'Goodfellas', 'Bertha Blue', 1.0, None, 'TESTING')\n",
      "('Movie', 'Fantasy', 'The Lord of the Rings: The Fellowship of the Ring', 'Bertha Blue', 8.0, None, 'TESTING')\n",
      "('Movie', 'Fantasy', 'Star Wars: Episode V - The Empire Strikes Back', 'Bertha Blue', 1.0, None, 'TESTING')\n",
      "('Movie', 'History', \"Schindler's List\", 'Bertha Blue', 4.0, None, 'TESTING')\n",
      "('Movie', 'Drama', 'The Green Mile', 'Bertha Blue', 4.0, None, 'TESTING')\n",
      "('Movie', 'Action', 'Gladiator', 'Bertha Blue', 7.0, None, 'TESTING')\n"
     ]
    }
   ],
   "source": [
    "#Get Recent Activity Among Followers\n",
    "cur.execute(sq.get_account_recent(), (row[0],))\n",
    "\n",
    "for recent in cur.fetchall():\n",
    "    print(recent)"
   ]
  },
  {
   "cell_type": "code",
   "execution_count": 13,
   "metadata": {},
   "outputs": [],
   "source": [
    "#Delete A Following()\n",
    "cur.execute(sq.delete_following(),(row[0], id))\n",
    "conn.commit()"
   ]
  },
  {
   "cell_type": "code",
   "execution_count": 14,
   "metadata": {},
   "outputs": [
    {
     "name": "stdout",
     "output_type": "stream",
     "text": [
      "[(561, 'The Shawshank Redemption', 57, 399, datetime.date(2069, 1, 10), 'TESTING', 'TESTING', None, None)]\n"
     ]
    }
   ],
   "source": [
    "#Get Media Given It\n",
    "\n",
    "cur.execute(sq.get_media(), (id_we_want,))\n",
    "print(cur.fetchall())"
   ]
  }
 ],
 "metadata": {
  "kernelspec": {
   "display_name": "Python 3",
   "language": "python",
   "name": "python3"
  },
  "language_info": {
   "codemirror_mode": {
    "name": "ipython",
    "version": 3
   },
   "file_extension": ".py",
   "mimetype": "text/x-python",
   "name": "python",
   "nbconvert_exporter": "python",
   "pygments_lexer": "ipython3",
   "version": "3.11.5"
  }
 },
 "nbformat": 4,
 "nbformat_minor": 2
}
