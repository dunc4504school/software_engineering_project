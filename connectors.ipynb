{
 "cells": [
  {
   "cell_type": "markdown",
   "metadata": {},
   "source": [
    "#TEMPORARY CODE"
   ]
  },
  {
   "cell_type": "code",
   "execution_count": 1,
   "metadata": {},
   "outputs": [],
   "source": [
    "#CODE TO CREATE AN CONNECTION OF DATABASE - WILL BE PLACED SOMEWHERE\n",
    "\n",
    "from database import database\n",
    "import sql_queries as sq\n",
    "\n",
    "database_instance = database('cp317_final','postgres','password','localhost','5432')\n",
    "conn, cur = database_instance.get_instance()"
   ]
  },
  {
   "cell_type": "code",
   "execution_count": 2,
   "metadata": {},
   "outputs": [
    {
     "name": "stdout",
     "output_type": "stream",
     "text": [
      "TRUE-Second Time\n"
     ]
    }
   ],
   "source": [
    "#Account 1: Create Account\n",
    "\n",
    "#imagine someone already has the username\n",
    "cur.execute(sq.add_account(), (\"Luke\", \"ldunc\", \"ldunc342@gmail.com\", \"9034233931\", \"oth\"))\n",
    "\n",
    "#Attempting to create new account\n",
    "cur.execute(sq.add_account(), (\"Lucas\", \"ldunc\", \"ldunc19@hotmail.com\", \"9032023931\", \"pass\"))\n",
    "conn.commit()\n",
    "\n",
    "#Mark whether succeeded\n",
    "if cur.rowcount > 0:  print(\"TRUE\")\n",
    "\n",
    "#When it fails, try again with anouther\n",
    "cur.execute(sq.add_account(), (\"Lucas\", \"ldunc01\", \"ldunc19@hotmail.com\", \"9032023931\", \"pass\"))\n",
    "conn.commit()\n",
    "\n",
    "#Mark whether succeeded\n",
    "if cur.rowcount > 0:  print(\"TRUE-Second Time\")"
   ]
  },
  {
   "cell_type": "code",
   "execution_count": 3,
   "metadata": {},
   "outputs": [
    {
     "name": "stdout",
     "output_type": "stream",
     "text": [
      "WRONG\n",
      "(324, 'Lucas', 'ldunc01', datetime.date(2024, 11, 16), 'ldunc19@hotmail.com', '9032023931', 0, 0, 0, 'pass')\n",
      "SIGNED IN\n"
     ]
    }
   ],
   "source": [
    "#Account 2: Demonstrating Log Into Existing Account\n",
    "\n",
    "cur.execute(sq.attempt_login(), (\"kdunc01\", \"pass\"))\n",
    "row = cur.fetchone()\n",
    "\n",
    "if row:\n",
    "    print(\"SIGNED IN\")\n",
    "else:\n",
    "    print(\"WRONG\")\n",
    "\n",
    "cur.execute(sq.attempt_login(), (\"ldunc01\", \"pass\"))\n",
    "row = cur.fetchone()\n",
    "print(row)\n",
    "\n",
    "if row:\n",
    "    print(\"SIGNED IN\")\n",
    "else:\n",
    "    print(\"WRONG\")"
   ]
  },
  {
   "cell_type": "code",
   "execution_count": 4,
   "metadata": {},
   "outputs": [
    {
     "name": "stdout",
     "output_type": "stream",
     "text": [
      "(318, 'Jane Smith', 'TESTINGJane Smith', 10, 5, 8, 5.8)\n",
      "(315, 'Zach Reid', 'TESTINGZach Reid', 8, 7, 6, 6.25)\n",
      "(312, 'Venkat Gunturi', 'TESTINGVenkat Gunturi', 9, 4, 7, 4.888888888888889)\n",
      "(316, 'Lucas Duncan', 'TESTINGLucas Duncan', 12, 7, 4, 6.25)\n",
      "(317, 'John Doe', 'TESTINGJohn Doe', 11, 5, 7, 5.545454545454546)\n",
      "(320, 'Bertha Blue', 'TESTINGBertha Blue', 8, 5, 4, 4.0)\n",
      "(314, 'Hashim Jama', 'TESTINGHashim Jama', 11, 3, 6, 5.454545454545454)\n",
      "(319, 'Kylie Tan', 'TESTINGKylie Tan', 11, 5, 6, 4.454545454545454)\n",
      "(321, 'Tiffany Stoik', 'TESTINGTiffany Stoik', 9, 8, 4, 3.5555555555555554)\n",
      "(313, 'Gavin Heslip', 'TESTINGGavin Heslip', 10, 7, 4, 4.8)\n",
      "318\n"
     ]
    }
   ],
   "source": [
    "#Search By Name\n",
    "cur.execute(sq.get_searched_account(),(\"%TESTING%\",))\n",
    "possible_matchs = cur.fetchall()\n",
    "\n",
    "for match in possible_matchs:\n",
    "    print(match)\n",
    "\n",
    "#the one we want\n",
    "id = possible_matchs[0][0]\n",
    "print(id)"
   ]
  },
  {
   "cell_type": "code",
   "execution_count": 5,
   "metadata": {},
   "outputs": [],
   "source": [
    "#Start Following \n",
    "cur.execute(sq.add_following(), (row[0], id))"
   ]
  },
  {
   "cell_type": "code",
   "execution_count": 6,
   "metadata": {},
   "outputs": [
    {
     "name": "stdout",
     "output_type": "stream",
     "text": [
      "[(318, 'Jane Smith', 'TESTINGJane Smith', 10, 6, 8, 5.8)]\n",
      "[(324, 'Lucas', 'ldunc01', '9032023931', 'ldunc19@hotmail.com', 0, 0, 1, None)]\n"
     ]
    }
   ],
   "source": [
    "#Get Their Account Info\n",
    "cur.execute(sq.get_account_summary(), (id,))\n",
    "print(cur.fetchall())\n",
    "\n",
    "#Get Account Info For Our Account\n",
    "cur.execute(sq.get_self_summary(), (row[0],))\n",
    "print(cur.fetchall())"
   ]
  },
  {
   "cell_type": "code",
   "execution_count": 7,
   "metadata": {},
   "outputs": [
    {
     "name": "stdout",
     "output_type": "stream",
     "text": [
      "('The Godfather', 8.0, None, 'TESTING', 'Crime', 'Movie')\n",
      "('The Dark Knight', 4.0, None, 'TESTING', 'Action', 'Movie')\n",
      "('Pulp Fiction', 6.0, None, 'TESTING', 'Crime', 'Movie')\n",
      "('Forrest Gump', 5.0, None, 'TESTING', 'Drama', 'Movie')\n",
      "('Fight Club', 6.0, None, 'TESTING', 'Drama', 'Movie')\n",
      "(\"Schindler's List\", 6.0, None, 'TESTING', 'History', 'Movie')\n",
      "('Gladiator', 10.0, None, 'TESTING', 'Action', 'Movie')\n",
      "('Interstellar', 6.0, None, 'TESTING', 'Sci-Fi', 'Movie')\n",
      "('The Lion King', 1.0, None, 'TESTING', 'Animation', 'Movie')\n",
      "('Django Unchained', 6.0, None, 'TESTING', 'Western', 'Movie')\n"
     ]
    }
   ],
   "source": [
    "#Get List Of Reviews (for account info of self or others)\n",
    "\n",
    "cur.execute(sq.get_account_review(),(id,))\n",
    "reviews = cur.fetchall()\n",
    "\n",
    "for review in reviews:\n",
    "    print(review)"
   ]
  },
  {
   "cell_type": "code",
   "execution_count": 8,
   "metadata": {},
   "outputs": [
    {
     "name": "stdout",
     "output_type": "stream",
     "text": [
      "(316, 'Lucas Duncan', 12, 4, 7)\n",
      "(317, 'John Doe', 11, 7, 5)\n",
      "(320, 'Bertha Blue', 8, 4, 5)\n",
      "(314, 'Hashim Jama', 11, 6, 3)\n",
      "(319, 'Kylie Tan', 11, 6, 5)\n",
      "(324, 'Lucas', 0, 1, 0)\n"
     ]
    }
   ],
   "source": [
    "#Get List of follows\n",
    "cur.execute(sq.get_account_follows(), (id,))\n",
    "follows = cur.fetchall()\n",
    "\n",
    "for follow in follows:\n",
    "    print(follow)\n"
   ]
  },
  {
   "cell_type": "code",
   "execution_count": 9,
   "metadata": {},
   "outputs": [
    {
     "name": "stdout",
     "output_type": "stream",
     "text": [
      "(315, 'Zach Reid', 8, 6, 7)\n",
      "(312, 'Venkat Gunturi', 9, 7, 4)\n",
      "(316, 'Lucas Duncan', 12, 4, 7)\n",
      "(317, 'John Doe', 11, 7, 5)\n",
      "(320, 'Bertha Blue', 8, 4, 5)\n",
      "(314, 'Hashim Jama', 11, 6, 3)\n",
      "(319, 'Kylie Tan', 11, 6, 5)\n",
      "(313, 'Gavin Heslip', 10, 4, 7)\n"
     ]
    }
   ],
   "source": [
    "#Get list of followers\n",
    "cur.execute(sq.get_account_following(), (id,))\n",
    "followings = cur.fetchall()\n",
    "\n",
    "for following in followings:\n",
    "    print(following)"
   ]
  },
  {
   "cell_type": "code",
   "execution_count": 10,
   "metadata": {},
   "outputs": [
    {
     "name": "stdout",
     "output_type": "stream",
     "text": [
      "(497, 'The Lion King', 49, 348, datetime.date(2069, 1, 10), 'TESTING', 'TESTING', None, None)\n",
      "(490, 'The Lord of the Rings: The Fellowship of the Ring', 49, 338, datetime.date(2069, 1, 10), 'TESTING', 'TESTING', None, None)\n",
      "(491, 'Star Wars: Episode V - The Empire Strikes Back', 49, 338, datetime.date(2069, 1, 10), 'TESTING', 'TESTING', None, None)\n",
      "(482, 'The Godfather', 49, 344, datetime.date(2069, 1, 10), 'TESTING', 'TESTING', None, None)\n",
      "(492, 'The Silence of the Lambs', 49, 346, datetime.date(2069, 1, 10), 'TESTING', 'TESTING', None, None)\n",
      "(483, 'The Dark Knight', 49, 339, datetime.date(2069, 1, 10), 'TESTING', 'TESTING', None, None)\n",
      "(499, 'The Departed', 49, 344, datetime.date(2069, 1, 10), 'TESTING', 'TESTING', None, None)\n",
      "(481, 'The Shawshank Redemption', 49, 343, datetime.date(2069, 1, 10), 'TESTING', 'TESTING', None, None)\n",
      "(488, 'The Matrix', 49, 339, datetime.date(2069, 1, 10), 'TESTING', 'TESTING', None, None)\n",
      "(494, 'The Green Mile', 49, 343, datetime.date(2069, 1, 10), 'TESTING', 'TESTING', None, None)\n"
     ]
    }
   ],
   "source": [
    "#Add A review (1)\n",
    "\n",
    "#search for a name,\n",
    "cur.execute(sq.get_searched_media(), ('%The%',))\n",
    "media = cur.fetchall()\n",
    "\n",
    "for single_media in media:\n",
    "    print(single_media)\n",
    "\n",
    "id_we_want = media[2][0]"
   ]
  },
  {
   "cell_type": "code",
   "execution_count": 11,
   "metadata": {},
   "outputs": [],
   "source": [
    "#Add A review (2)\n",
    "\n",
    "#Upload review\n",
    "cur.execute(sq.add_review(), (row[0], id_we_want, 7.5, \"This Movie Was Good\"))\n",
    "conn.commit()"
   ]
  },
  {
   "cell_type": "code",
   "execution_count": 12,
   "metadata": {},
   "outputs": [
    {
     "name": "stdout",
     "output_type": "stream",
     "text": [
      "('Movie', 'Crime', 'The Godfather', 'Jane Smith', 8.0, None, 'TESTING')\n",
      "('Movie', 'Action', 'The Dark Knight', 'Jane Smith', 4.0, None, 'TESTING')\n",
      "('Movie', 'Crime', 'Pulp Fiction', 'Jane Smith', 6.0, None, 'TESTING')\n",
      "('Movie', 'Drama', 'Forrest Gump', 'Jane Smith', 5.0, None, 'TESTING')\n",
      "('Movie', 'Drama', 'Fight Club', 'Jane Smith', 6.0, None, 'TESTING')\n",
      "('Movie', 'History', \"Schindler's List\", 'Jane Smith', 6.0, None, 'TESTING')\n",
      "('Movie', 'Action', 'Gladiator', 'Jane Smith', 10.0, None, 'TESTING')\n",
      "('Movie', 'Sci-Fi', 'Interstellar', 'Jane Smith', 6.0, None, 'TESTING')\n",
      "('Movie', 'Animation', 'The Lion King', 'Jane Smith', 1.0, None, 'TESTING')\n",
      "('Movie', 'Western', 'Django Unchained', 'Jane Smith', 6.0, None, 'TESTING')\n"
     ]
    }
   ],
   "source": [
    "#Get Recent Activity Among Followers\n",
    "cur.execute(sq.get_account_recent(), (row[0],))\n",
    "\n",
    "for recent in cur.fetchall():\n",
    "    print(recent)"
   ]
  },
  {
   "cell_type": "code",
   "execution_count": 13,
   "metadata": {},
   "outputs": [],
   "source": [
    "#Delete A Following()\n",
    "cur.execute(sq.delete_following(),(row[0], id))\n",
    "conn.commit()"
   ]
  }
 ],
 "metadata": {
  "kernelspec": {
   "display_name": "Python 3",
   "language": "python",
   "name": "python3"
  },
  "language_info": {
   "codemirror_mode": {
    "name": "ipython",
    "version": 3
   },
   "file_extension": ".py",
   "mimetype": "text/x-python",
   "name": "python",
   "nbconvert_exporter": "python",
   "pygments_lexer": "ipython3",
   "version": "3.11.5"
  }
 },
 "nbformat": 4,
 "nbformat_minor": 2
}
