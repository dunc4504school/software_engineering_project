{
 "cells": [
  {
   "cell_type": "markdown",
   "metadata": {},
   "source": [
    "#TEMPORARY CODE"
   ]
  },
  {
   "cell_type": "code",
   "execution_count": 1,
   "metadata": {},
   "outputs": [],
   "source": [
    "#CODE TO CREATE AN CONNECTION OF DATABASE - WILL BE PLACED SOMEWHERE\n",
    "\n",
    "from database import database\n",
    "import sql_queries as sq\n",
    "\n",
    "database_instance = database('cp317_final','postgres','password','localhost','5432')\n",
    "conn, cur = database_instance.get_instance()"
   ]
  },
  {
   "cell_type": "code",
   "execution_count": 2,
   "metadata": {},
   "outputs": [
    {
     "name": "stdout",
     "output_type": "stream",
     "text": [
      "TRUE-Second Time\n"
     ]
    }
   ],
   "source": [
    "#Account 1: Create Account\n",
    "\n",
    "#imagine someone already has the username\n",
    "cur.execute(sq.add_account(), (\"Luke\", \"ldunc\", \"ldunc342@gmail.com\", \"9034233931\", \"oth\"))\n",
    "\n",
    "#Attempting to create new account\n",
    "cur.execute(sq.add_account(), (\"Lucas\", \"ldunc\", \"ldunc19@hotmail.com\", \"9032023931\", \"pass\"))\n",
    "conn.commit()\n",
    "\n",
    "#Mark whether succeeded\n",
    "if cur.rowcount > 0:  print(\"TRUE\")\n",
    "\n",
    "#When it fails, try again with anouther\n",
    "cur.execute(sq.add_account(), (\"Lucas\", \"ldunc01\", \"ldunc19@hotmail.com\", \"9032023931\", \"pass\"))\n",
    "conn.commit()\n",
    "\n",
    "#Mark whether succeeded\n",
    "if cur.rowcount > 0:  print(\"TRUE-Second Time\")"
   ]
  },
  {
   "cell_type": "code",
   "execution_count": 3,
   "metadata": {},
   "outputs": [
    {
     "name": "stdout",
     "output_type": "stream",
     "text": [
      "WRONG\n",
      "(91, 'Lucas', 'ldunc01', datetime.date(2024, 11, 20), 'ldunc19@hotmail.com', '9032023931', 'pass', 0, 0, 0)\n",
      "SIGNED IN\n"
     ]
    }
   ],
   "source": [
    "#Account 2: Demonstrating Log Into Existing Account\n",
    "\n",
    "cur.execute(sq.attempt_login(), (\"kdunc01\", \"pass\"))\n",
    "row = cur.fetchone()\n",
    "\n",
    "if row:\n",
    "    print(\"SIGNED IN\")\n",
    "else:\n",
    "    print(\"WRONG\")\n",
    "\n",
    "cur.execute(sq.attempt_login(), (\"ldunc01\", \"pass\"))\n",
    "row = cur.fetchone()\n",
    "print(row)\n",
    "\n",
    "if row:\n",
    "    print(\"SIGNED IN\")\n",
    "else:\n",
    "    print(\"WRONG\")"
   ]
  },
  {
   "cell_type": "code",
   "execution_count": 4,
   "metadata": {},
   "outputs": [],
   "source": [
    "our_account_id = row[0]"
   ]
  },
  {
   "cell_type": "code",
   "execution_count": 5,
   "metadata": {},
   "outputs": [
    {
     "name": "stdout",
     "output_type": "stream",
     "text": [
      "(83, 'Lucas Duncan', 'TESTINGLucas Duncan', 9, 4, 2, 5.888888888888889)\n",
      "(86, 'Kylie Tan', 'TESTINGKylie Tan', 5, 5, 3, 4.4)\n",
      "(88, 'Tiffany Stoik', 'TESTINGTiffany Stoik', 9, 4, 3, 4.888888888888889)\n",
      "(82, 'Zach Reid', 'TESTINGZach Reid', 12, 5, 5, 6.166666666666667)\n",
      "(84, 'John Doe', 'TESTINGJohn Doe', 10, 4, 3, 6.8)\n",
      "(81, 'Hashim Jama', 'TESTINGHashim Jama', 10, 5, 1, 4.6)\n",
      "(85, 'Jane Smith', 'TESTINGJane Smith', 10, 2, 3, 5.5)\n",
      "(87, 'Bertha Blue', 'TESTINGBertha Blue', 12, 5, 6, 5.916666666666667)\n",
      "(80, 'Gavin Heslip', 'TESTINGGavin Heslip', 9, 3, 5, 4.111111111111111)\n",
      "(79, 'Venkat Gunturi', 'TESTINGVenkat Gunturi', 11, 3, 9, 5.818181818181818)\n",
      "83\n"
     ]
    }
   ],
   "source": [
    "#Search Account By Name\n",
    "cur.execute(sq.get_searched_account(),(\"%TESTING%\",))\n",
    "possible_matchs = cur.fetchall()\n",
    "\n",
    "for match in possible_matchs:\n",
    "    print(match)\n",
    "\n",
    "#the one we want\n",
    "account_id_selected = possible_matchs[0][0]\n",
    "print(account_id_selected)"
   ]
  },
  {
   "cell_type": "code",
   "execution_count": 6,
   "metadata": {},
   "outputs": [],
   "source": [
    "#Start Following \n",
    "cur.execute(sq.add_following(), (our_account_id, account_id_selected))"
   ]
  },
  {
   "cell_type": "code",
   "execution_count": 7,
   "metadata": {},
   "outputs": [
    {
     "name": "stdout",
     "output_type": "stream",
     "text": [
      "[(83, 'Lucas Duncan', 'TESTINGLucas Duncan', 9, 5, 2, 5.888888888888889)]\n",
      "[(91, 'Lucas', 'ldunc01', '9032023931', 'ldunc19@hotmail.com', 0, 0, 1, None)]\n"
     ]
    }
   ],
   "source": [
    "#Get Their Account Info\n",
    "cur.execute(sq.get_account_summary(), (account_id_selected,))\n",
    "print(cur.fetchall())\n",
    "\n",
    "#Get Account Info For Our Account\n",
    "cur.execute(sq.get_self_summary(), (our_account_id,))\n",
    "print(cur.fetchall())"
   ]
  },
  {
   "cell_type": "code",
   "execution_count": 8,
   "metadata": {},
   "outputs": [
    {
     "name": "stdout",
     "output_type": "stream",
     "text": [
      "('The Godfather', 8.0, 3.142857, 'TESTING', 'Crime', 'Crime', 'Crime', 'Movie')\n",
      "('The Dark Knight', 2.0, -3.6666665, 'TESTING', 'Action', 'Action', 'Action', 'Movie')\n",
      "('Pulp Fiction', 8.0, 0.625, 'TESTING', 'Crime', 'Crime', 'Crime', 'Movie')\n",
      "('Inception', 4.0, -1.875, 'TESTING', 'Sci-Fi', 'Sci-Fi', 'Sci-Fi', 'Movie')\n",
      "('The Matrix', 8.0, 3.1999998, 'TESTING', 'Action', 'Action', 'Action', 'Movie')\n",
      "('Goodfellas', 6.0, 1.2222219, 'TESTING', 'Crime', 'Crime', 'Crime', 'Movie')\n",
      "('The Silence of the Lambs', 10.0, 3.6666665, 'TESTING', 'Thriller', 'Thriller', 'Thriller', 'Movie')\n",
      "('Interstellar', 5.0, -1.8571429, 'TESTING', 'Sci-Fi', 'Sci-Fi', 'Sci-Fi', 'Movie')\n",
      "('The Departed', 2.0, -1.8, 'TESTING', 'Crime', 'Crime', 'Crime', 'Movie')\n"
     ]
    }
   ],
   "source": [
    "#Get List Of Reviews Made By Account (for account info of self or others)\n",
    "\n",
    "cur.execute(sq.get_account_review(),(account_id_selected,))\n",
    "reviews = cur.fetchall()\n",
    "\n",
    "for review in reviews:\n",
    "    print(review)"
   ]
  },
  {
   "cell_type": "code",
   "execution_count": 9,
   "metadata": {},
   "outputs": [
    {
     "name": "stdout",
     "output_type": "stream",
     "text": [
      "(82, 'Zach Reid', 12, 5, 5)\n",
      "(81, 'Hashim Jama', 10, 1, 5)\n",
      "(80, 'Gavin Heslip', 9, 5, 3)\n",
      "(79, 'Venkat Gunturi', 11, 9, 3)\n",
      "(91, 'Lucas', 0, 1, 0)\n"
     ]
    }
   ],
   "source": [
    "#Get List of follows\n",
    "cur.execute(sq.get_account_follows(), (account_id_selected,))\n",
    "follows = cur.fetchall()\n",
    "\n",
    "for follow in follows:\n",
    "    print(follow)\n"
   ]
  },
  {
   "cell_type": "code",
   "execution_count": 10,
   "metadata": {},
   "outputs": [
    {
     "name": "stdout",
     "output_type": "stream",
     "text": [
      "(86, 'Kylie Tan', 5, 3, 5)\n",
      "(87, 'Bertha Blue', 12, 6, 5)\n"
     ]
    }
   ],
   "source": [
    "#Get list of followers\n",
    "cur.execute(sq.get_account_following(), (account_id_selected,))\n",
    "followings = cur.fetchall()\n",
    "\n",
    "for following in followings:\n",
    "    print(following)"
   ]
  },
  {
   "cell_type": "code",
   "execution_count": 11,
   "metadata": {},
   "outputs": [
    {
     "name": "stdout",
     "output_type": "stream",
     "text": [
      "(134, 'The Green Mile', 13, 91, 91, 91, datetime.date(2069, 1, 10), 'TESTING', 'TESTING', 3.75, 4)\n",
      "(139, 'The Departed', 13, 92, 92, 92, datetime.date(2069, 1, 10), 'TESTING', 'TESTING', 3.8, 5)\n",
      "(123, 'The Dark Knight', 13, 87, 87, 87, datetime.date(2069, 1, 10), 'TESTING', 'TESTING', 5.6666665, 9)\n",
      "(121, 'The Shawshank Redemption', 13, 91, 91, 91, datetime.date(2069, 1, 10), 'TESTING', 'TESTING', 3.5, 2)\n",
      "(122, 'The Godfather', 13, 92, 92, 92, datetime.date(2069, 1, 10), 'TESTING', 'TESTING', 4.857143, 7)\n",
      "(130, 'The Lord of the Rings: The Fellowship of the Ring', 13, 86, 86, 86, datetime.date(2069, 1, 10), 'TESTING', 'TESTING', 6.25, 4)\n",
      "(137, 'The Lion King', 13, 96, 96, 96, datetime.date(2069, 1, 10), 'TESTING', 'TESTING', 7.4, 5)\n",
      "(128, 'The Matrix', 13, 87, 87, 87, datetime.date(2069, 1, 10), 'TESTING', 'TESTING', 4.8, 5)\n",
      "(131, 'Star Wars: Episode V - The Empire Strikes Back', 13, 86, 86, 86, datetime.date(2069, 1, 10), 'TESTING', 'TESTING', 2.6666667, 3)\n",
      "(132, 'The Silence of the Lambs', 13, 94, 94, 94, datetime.date(2069, 1, 10), 'TESTING', 'TESTING', 6.3333335, 3)\n"
     ]
    }
   ],
   "source": [
    "#Add A review (1)\n",
    "\n",
    "#search for a name,\n",
    "cur.execute(sq.get_searched_media(), ('%The%',))\n",
    "media = cur.fetchall()\n",
    "\n",
    "for single_media in media:\n",
    "    print(single_media)\n",
    "\n",
    "id_of_media_we_want_to_review = media[2][0]"
   ]
  },
  {
   "cell_type": "code",
   "execution_count": 12,
   "metadata": {},
   "outputs": [],
   "source": [
    "#Add A review (2)\n",
    "\n",
    "#Upload review\n",
    "cur.execute(sq.add_review(), (our_account_id, id_of_media_we_want_to_review, 7.5, \"This Movie Was Good\"))\n",
    "conn.commit()"
   ]
  },
  {
   "cell_type": "code",
   "execution_count": 13,
   "metadata": {},
   "outputs": [
    {
     "name": "stdout",
     "output_type": "stream",
     "text": [
      "('Movie', 'Crime', 'Crime', 'Crime', 'The Godfather', 'Lucas Duncan', 8.0, 3.142857, 'TESTING')\n",
      "('Movie', 'Action', 'Action', 'Action', 'The Dark Knight', 'Lucas Duncan', 2.0, -3.85, 'TESTING')\n",
      "('Movie', 'Crime', 'Crime', 'Crime', 'Pulp Fiction', 'Lucas Duncan', 8.0, 0.625, 'TESTING')\n",
      "('Movie', 'Sci-Fi', 'Sci-Fi', 'Sci-Fi', 'Inception', 'Lucas Duncan', 4.0, -1.875, 'TESTING')\n",
      "('Movie', 'Action', 'Action', 'Action', 'The Matrix', 'Lucas Duncan', 8.0, 3.1999998, 'TESTING')\n",
      "('Movie', 'Crime', 'Crime', 'Crime', 'Goodfellas', 'Lucas Duncan', 6.0, 1.2222219, 'TESTING')\n",
      "('Movie', 'Thriller', 'Thriller', 'Thriller', 'The Silence of the Lambs', 'Lucas Duncan', 10.0, 3.6666665, 'TESTING')\n",
      "('Movie', 'Sci-Fi', 'Sci-Fi', 'Sci-Fi', 'Interstellar', 'Lucas Duncan', 5.0, -1.8571429, 'TESTING')\n",
      "('Movie', 'Crime', 'Crime', 'Crime', 'The Departed', 'Lucas Duncan', 2.0, -1.8, 'TESTING')\n"
     ]
    }
   ],
   "source": [
    "#Get Recent Activity Among Followers\n",
    "cur.execute(sq.get_account_recent(), (our_account_id,))\n",
    "\n",
    "for recent in cur.fetchall():\n",
    "    print(recent)"
   ]
  },
  {
   "cell_type": "code",
   "execution_count": 14,
   "metadata": {},
   "outputs": [],
   "source": [
    "#Delete A Following()\n",
    "cur.execute(sq.delete_following(),(our_account_id, account_id_selected))\n",
    "conn.commit()"
   ]
  },
  {
   "cell_type": "code",
   "execution_count": 15,
   "metadata": {},
   "outputs": [
    {
     "name": "stdout",
     "output_type": "stream",
     "text": [
      "[(123, 'The Dark Knight', 13, 87, 87, 87, datetime.date(2069, 1, 10), 'TESTING', 'TESTING', 5.85, 10)]\n"
     ]
    }
   ],
   "source": [
    "#Get Media Details Given Its Id\n",
    "\n",
    "cur.execute(sq.get_media(), (id_of_media_we_want_to_review,))\n",
    "print(cur.fetchall())"
   ]
  }
 ],
 "metadata": {
  "kernelspec": {
   "display_name": "Python 3",
   "language": "python",
   "name": "python3"
  },
  "language_info": {
   "codemirror_mode": {
    "name": "ipython",
    "version": 3
   },
   "file_extension": ".py",
   "mimetype": "text/x-python",
   "name": "python",
   "nbconvert_exporter": "python",
   "pygments_lexer": "ipython3",
   "version": "3.11.5"
  }
 },
 "nbformat": 4,
 "nbformat_minor": 2
}
