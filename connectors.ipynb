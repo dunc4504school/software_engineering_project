{
 "cells": [
  {
   "cell_type": "markdown",
   "metadata": {},
   "source": [
    "#TEMPORARY CODE"
   ]
  },
  {
   "cell_type": "code",
   "execution_count": 1,
   "metadata": {},
   "outputs": [],
   "source": [
    "#CODE TO CREATE AN CONNECTION OF DATABASE - WILL BE PLACED SOMEWHERE\n",
    "\n",
    "from database import database\n",
    "import sql_queries as sq\n",
    "\n",
    "database_instance = database('cp317_final','postgres','password','localhost','5432')\n",
    "conn, cur = database_instance.get_instance()"
   ]
  },
  {
   "cell_type": "code",
   "execution_count": 2,
   "metadata": {},
   "outputs": [
    {
     "name": "stdout",
     "output_type": "stream",
     "text": [
      "TRUE-Second Time\n"
     ]
    }
   ],
   "source": [
    "#Account 1: Create Account\n",
    "\n",
    "#imagine someone already has the username\n",
    "cur.execute(sq.add_account(), (\"Luke\", \"ldunc\", \"ldunc342@gmail.com\", \"9034233931\", \"oth\"))\n",
    "\n",
    "#Attempting to create new account\n",
    "cur.execute(sq.add_account(), (\"Lucas\", \"ldunc\", \"ldunc19@hotmail.com\", \"9032023931\", \"pass\"))\n",
    "conn.commit()\n",
    "\n",
    "#Mark whether succeeded\n",
    "if cur.rowcount > 0:  print(\"TRUE\")\n",
    "\n",
    "#When it fails, try again with anouther\n",
    "cur.execute(sq.add_account(), (\"Lucas\", \"ldunc01\", \"ldunc19@hotmail.com\", \"9032023931\", \"pass\"))\n",
    "conn.commit()\n",
    "\n",
    "#Mark whether succeeded\n",
    "if cur.rowcount > 0:  print(\"TRUE-Second Time\")"
   ]
  },
  {
   "cell_type": "code",
   "execution_count": 3,
   "metadata": {},
   "outputs": [
    {
     "name": "stdout",
     "output_type": "stream",
     "text": [
      "WRONG\n",
      "(26, 'Lucas', 'ldunc01', datetime.date(2024, 11, 20), 'ldunc19@hotmail.com', '9032023931', 'pass', 0, 0, 0)\n",
      "SIGNED IN\n"
     ]
    }
   ],
   "source": [
    "#Account 2: Demonstrating Log Into Existing Account\n",
    "\n",
    "cur.execute(sq.attempt_login(), (\"kdunc01\", \"pass\"))\n",
    "row = cur.fetchone()\n",
    "\n",
    "if row:\n",
    "    print(\"SIGNED IN\")\n",
    "else:\n",
    "    print(\"WRONG\")\n",
    "\n",
    "cur.execute(sq.attempt_login(), (\"ldunc01\", \"pass\"))\n",
    "row = cur.fetchone()\n",
    "print(row)\n",
    "\n",
    "if row:\n",
    "    print(\"SIGNED IN\")\n",
    "else:\n",
    "    print(\"WRONG\")"
   ]
  },
  {
   "cell_type": "code",
   "execution_count": 4,
   "metadata": {},
   "outputs": [],
   "source": [
    "our_account_id = row[0]"
   ]
  },
  {
   "cell_type": "code",
   "execution_count": 5,
   "metadata": {},
   "outputs": [
    {
     "name": "stdout",
     "output_type": "stream",
     "text": [
      "(22, 'Bertha Blue', 'TESTINGBertha Blue', 12, 7, 1, 6.166666666666667)\n",
      "(23, 'Tiffany Stoik', 'TESTINGTiffany Stoik', 9, 6, 6, 5.777777777777778)\n",
      "(16, 'Hashim Jama', 'TESTINGHashim Jama', 10, 6, 4, 5.7)\n",
      "(18, 'Lucas Duncan', 'TESTINGLucas Duncan', 7, 6, 9, 5.428571428571429)\n",
      "(14, 'Venkat Gunturi', 'TESTINGVenkat Gunturi', 14, 6, 8, 5.571428571428571)\n",
      "(17, 'Zach Reid', 'TESTINGZach Reid', 9, 6, 9, 6.333333333333333)\n",
      "(20, 'Jane Smith', 'TESTINGJane Smith', 10, 7, 8, 4.4)\n",
      "(21, 'Kylie Tan', 'TESTINGKylie Tan', 12, 7, 8, 4.5)\n",
      "(19, 'John Doe', 'TESTINGJohn Doe', 8, 5, 8, 4.0)\n",
      "(15, 'Gavin Heslip', 'TESTINGGavin Heslip', 13, 7, 2, 5.153846153846154)\n",
      "22\n"
     ]
    }
   ],
   "source": [
    "#Search Account By Name\n",
    "cur.execute(sq.get_searched_account(),(\"%TESTING%\",))\n",
    "possible_matchs = cur.fetchall()\n",
    "\n",
    "for match in possible_matchs:\n",
    "    print(match)\n",
    "\n",
    "#the one we want\n",
    "account_id_selected = possible_matchs[0][0]\n",
    "print(account_id_selected)"
   ]
  },
  {
   "cell_type": "code",
   "execution_count": 6,
   "metadata": {},
   "outputs": [],
   "source": [
    "#Start Following \n",
    "cur.execute(sq.add_following(), (our_account_id, account_id_selected))"
   ]
  },
  {
   "cell_type": "code",
   "execution_count": 7,
   "metadata": {},
   "outputs": [
    {
     "name": "stdout",
     "output_type": "stream",
     "text": [
      "[(22, 'Bertha Blue', 'TESTINGBertha Blue', 12, 8, 1, 6.166666666666667)]\n",
      "[(26, 'Lucas', 'ldunc01', '9032023931', 'ldunc19@hotmail.com', 0, 0, 1, None)]\n"
     ]
    }
   ],
   "source": [
    "#Get Their Account Info\n",
    "cur.execute(sq.get_account_summary(), (account_id_selected,))\n",
    "print(cur.fetchall())\n",
    "\n",
    "#Get Account Info For Our Account\n",
    "cur.execute(sq.get_self_summary(), (our_account_id,))\n",
    "print(cur.fetchall())"
   ]
  },
  {
   "cell_type": "code",
   "execution_count": 8,
   "metadata": {},
   "outputs": [
    {
     "name": "stdout",
     "output_type": "stream",
     "text": [
      "('The Shawshank Redemption', 3.0, -2.375, 'TESTING', 'Drama', 'Movie')\n",
      "('The Godfather', 7.0, -0.09999943, 'TESTING', 'Crime', 'Movie')\n",
      "('The Dark Knight', 10.0, 4.5, 'TESTING', 'Action', 'Movie')\n",
      "('Pulp Fiction', 8.0, 2.1666665, 'TESTING', 'Crime', 'Movie')\n",
      "('Forrest Gump', 3.0, -2.5, 'TESTING', 'Drama', 'Movie')\n",
      "('Fight Club', 6.0, 0.19999981, 'TESTING', 'Drama', 'Movie')\n",
      "('The Matrix', 9.0, 3.857143, 'TESTING', 'Action', 'Movie')\n",
      "('Star Wars: Episode V - The Empire Strikes Back', 2.0, -1.0, 'TESTING', 'Fantasy', 'Movie')\n",
      "('Gladiator', 10.0, 1.0, 'TESTING', 'Action', 'Movie')\n",
      "('Interstellar', 9.0, 4.5, 'TESTING', 'Sci-Fi', 'Movie')\n",
      "('The Lion King', 3.0, -3.0, 'TESTING', 'Animation', 'Movie')\n",
      "('Django Unchained', 4.0, -1.4444447, 'TESTING', 'Western', 'Movie')\n"
     ]
    }
   ],
   "source": [
    "#Get List Of Reviews Made By Account (for account info of self or others)\n",
    "\n",
    "cur.execute(sq.get_account_review(),(account_id_selected,))\n",
    "reviews = cur.fetchall()\n",
    "\n",
    "for review in reviews:\n",
    "    print(review)"
   ]
  },
  {
   "cell_type": "code",
   "execution_count": 9,
   "metadata": {},
   "outputs": [
    {
     "name": "stdout",
     "output_type": "stream",
     "text": [
      "(14, 'Venkat Gunturi', 14, 8, 6)\n",
      "(15, 'Gavin Heslip', 13, 2, 7)\n",
      "(17, 'Zach Reid', 9, 9, 6)\n",
      "(18, 'Lucas Duncan', 7, 9, 6)\n",
      "(20, 'Jane Smith', 10, 8, 7)\n",
      "(21, 'Kylie Tan', 12, 8, 7)\n",
      "(23, 'Tiffany Stoik', 9, 6, 6)\n",
      "(26, 'Lucas', 0, 1, 0)\n"
     ]
    }
   ],
   "source": [
    "#Get List of follows\n",
    "cur.execute(sq.get_account_follows(), (account_id_selected,))\n",
    "follows = cur.fetchall()\n",
    "\n",
    "for follow in follows:\n",
    "    print(follow)\n"
   ]
  },
  {
   "cell_type": "code",
   "execution_count": 10,
   "metadata": {},
   "outputs": [
    {
     "name": "stdout",
     "output_type": "stream",
     "text": [
      "(15, 'Gavin Heslip', 13, 2, 7)\n"
     ]
    }
   ],
   "source": [
    "#Get list of followers\n",
    "cur.execute(sq.get_account_following(), (account_id_selected,))\n",
    "followings = cur.fetchall()\n",
    "\n",
    "for following in followings:\n",
    "    print(following)"
   ]
  },
  {
   "cell_type": "code",
   "execution_count": 11,
   "metadata": {},
   "outputs": [
    {
     "name": "stdout",
     "output_type": "stream",
     "text": [
      "(31, 'Star Wars: Episode V - The Empire Strikes Back', 3, 16, datetime.date(2069, 1, 10), 'TESTING', 'TESTING', 3.0, 8)\n",
      "(22, 'The Godfather', 3, 22, datetime.date(2069, 1, 10), 'TESTING', 'TESTING', 7.0999994, 10)\n",
      "(37, 'The Lion King', 3, 26, datetime.date(2069, 1, 10), 'TESTING', 'TESTING', 6.0, 4)\n",
      "(21, 'The Shawshank Redemption', 3, 21, datetime.date(2069, 1, 10), 'TESTING', 'TESTING', 5.375, 8)\n",
      "(34, 'The Green Mile', 3, 21, datetime.date(2069, 1, 10), 'TESTING', 'TESTING', 4.5, 2)\n",
      "(30, 'The Lord of the Rings: The Fellowship of the Ring', 3, 16, datetime.date(2069, 1, 10), 'TESTING', 'TESTING', 5.6666665, 3)\n",
      "(23, 'The Dark Knight', 3, 17, datetime.date(2069, 1, 10), 'TESTING', 'TESTING', 5.5, 2)\n",
      "(39, 'The Departed', 3, 22, datetime.date(2069, 1, 10), 'TESTING', 'TESTING', 8.0, 1)\n",
      "(28, 'The Matrix', 3, 17, datetime.date(2069, 1, 10), 'TESTING', 'TESTING', 5.142857, 7)\n",
      "(32, 'The Silence of the Lambs', 3, 24, datetime.date(2069, 1, 10), 'TESTING', 'TESTING', 3.9999998, 6)\n"
     ]
    }
   ],
   "source": [
    "#Add A review (1)\n",
    "\n",
    "#search for a name,\n",
    "cur.execute(sq.get_searched_media(), ('%The%',))\n",
    "media = cur.fetchall()\n",
    "\n",
    "for single_media in media:\n",
    "    print(single_media)\n",
    "\n",
    "id_of_media_we_want_to_review = media[2][0]"
   ]
  },
  {
   "cell_type": "code",
   "execution_count": 12,
   "metadata": {},
   "outputs": [],
   "source": [
    "#Add A review (2)\n",
    "\n",
    "#Upload review\n",
    "cur.execute(sq.add_review(), (our_account_id, id_of_media_we_want_to_review, 7.5, \"This Movie Was Good\"))\n",
    "conn.commit()"
   ]
  },
  {
   "cell_type": "code",
   "execution_count": 13,
   "metadata": {},
   "outputs": [
    {
     "name": "stdout",
     "output_type": "stream",
     "text": [
      "('Movie', 'Fantasy', 'Star Wars: Episode V - The Empire Strikes Back', 'Bertha Blue', 2.0, -1.0, 'TESTING')\n",
      "('Movie', 'Action', 'The Matrix', 'Bertha Blue', 9.0, 3.857143, 'TESTING')\n",
      "('Movie', 'Action', 'The Dark Knight', 'Bertha Blue', 10.0, 4.5, 'TESTING')\n",
      "('Movie', 'Action', 'Gladiator', 'Bertha Blue', 10.0, 1.0, 'TESTING')\n",
      "('Movie', 'Drama', 'Forrest Gump', 'Bertha Blue', 3.0, -2.5, 'TESTING')\n",
      "('Movie', 'Drama', 'The Shawshank Redemption', 'Bertha Blue', 3.0, -2.375, 'TESTING')\n",
      "('Movie', 'Drama', 'Fight Club', 'Bertha Blue', 6.0, 0.19999981, 'TESTING')\n",
      "('Movie', 'Crime', 'Pulp Fiction', 'Bertha Blue', 8.0, 2.1666665, 'TESTING')\n",
      "('Movie', 'Crime', 'The Godfather', 'Bertha Blue', 7.0, -0.09999943, 'TESTING')\n",
      "('Movie', 'Sci-Fi', 'Interstellar', 'Bertha Blue', 9.0, 4.5, 'TESTING')\n",
      "('Movie', 'Animation', 'The Lion King', 'Bertha Blue', 3.0, -3.3000002, 'TESTING')\n",
      "('Movie', 'Western', 'Django Unchained', 'Bertha Blue', 4.0, -1.4444447, 'TESTING')\n"
     ]
    }
   ],
   "source": [
    "#Get Recent Activity Among Followers\n",
    "cur.execute(sq.get_account_recent(), (our_account_id,))\n",
    "\n",
    "for recent in cur.fetchall():\n",
    "    print(recent)"
   ]
  },
  {
   "cell_type": "code",
   "execution_count": 14,
   "metadata": {},
   "outputs": [],
   "source": [
    "#Delete A Following()\n",
    "cur.execute(sq.delete_following(),(our_account_id, account_id_selected))\n",
    "conn.commit()"
   ]
  },
  {
   "cell_type": "code",
   "execution_count": 15,
   "metadata": {},
   "outputs": [
    {
     "name": "stdout",
     "output_type": "stream",
     "text": [
      "[(37, 'The Lion King', 3, 26, datetime.date(2069, 1, 10), 'TESTING', 'TESTING', 6.3, 5)]\n"
     ]
    }
   ],
   "source": [
    "#Get Media Details Given Its Id\n",
    "\n",
    "cur.execute(sq.get_media(), (id_of_media_we_want_to_review,))\n",
    "print(cur.fetchall())"
   ]
  }
 ],
 "metadata": {
  "kernelspec": {
   "display_name": "Python 3",
   "language": "python",
   "name": "python3"
  },
  "language_info": {
   "codemirror_mode": {
    "name": "ipython",
    "version": 3
   },
   "file_extension": ".py",
   "mimetype": "text/x-python",
   "name": "python",
   "nbconvert_exporter": "python",
   "pygments_lexer": "ipython3",
   "version": "3.11.5"
  }
 },
 "nbformat": 4,
 "nbformat_minor": 2
}
