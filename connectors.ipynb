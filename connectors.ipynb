{
 "cells": [
  {
   "cell_type": "markdown",
   "metadata": {},
   "source": [
    "#TEMPORARY CODE"
   ]
  },
  {
   "cell_type": "code",
   "execution_count": 1,
   "metadata": {},
   "outputs": [],
   "source": [
    "#CODE TO CREATE AN CONNECTION OF DATABASE - WILL BE PLACED SOMEWHERE\n",
    "\n",
    "from database import database\n",
    "import sql_queries as sq\n",
    "\n",
    "database_instance = database('cp317_final','postgres','password','localhost','5432')\n",
    "conn, cur = database_instance.get_instance()"
   ]
  },
  {
   "cell_type": "code",
   "execution_count": 2,
   "metadata": {},
   "outputs": [
    {
     "name": "stdout",
     "output_type": "stream",
     "text": [
      "TRUE-Second Time\n"
     ]
    }
   ],
   "source": [
    "#Account 1: Create Account\n",
    "\n",
    "#imagine someone already has the username\n",
    "cur.execute(sq.add_account(), (\"Luke\", \"ldunc\", \"ldunc342@gmail.com\", \"9034233931\", \"oth\"))\n",
    "\n",
    "#Attempting to create new account\n",
    "cur.execute(sq.add_account(), (\"Lucas\", \"ldunc\", \"ldunc19@hotmail.com\", \"9032023931\", \"pass\"))\n",
    "conn.commit()\n",
    "\n",
    "#Mark whether succeeded\n",
    "if cur.rowcount > 0:  print(\"TRUE\")\n",
    "\n",
    "#When it fails, try again with anouther\n",
    "cur.execute(sq.add_account(), (\"Lucas\", \"ldunc01\", \"ldunc19@hotmail.com\", \"9032023931\", \"pass\"))\n",
    "conn.commit()\n",
    "\n",
    "#Mark whether succeeded\n",
    "if cur.rowcount > 0:  print(\"TRUE-Second Time\")"
   ]
  },
  {
   "cell_type": "code",
   "execution_count": 3,
   "metadata": {},
   "outputs": [
    {
     "name": "stdout",
     "output_type": "stream",
     "text": [
      "WRONG\n",
      "(13, 'Lucas', 'ldunc01', datetime.date(2024, 11, 20), 'ldunc19@hotmail.com', '9032023931', 'pass', 0, 0, 0)\n",
      "SIGNED IN\n"
     ]
    }
   ],
   "source": [
    "#Account 2: Demonstrating Log Into Existing Account\n",
    "\n",
    "cur.execute(sq.attempt_login(), (\"kdunc01\", \"pass\"))\n",
    "row = cur.fetchone()\n",
    "\n",
    "if row:\n",
    "    print(\"SIGNED IN\")\n",
    "else:\n",
    "    print(\"WRONG\")\n",
    "\n",
    "cur.execute(sq.attempt_login(), (\"ldunc01\", \"pass\"))\n",
    "row = cur.fetchone()\n",
    "print(row)\n",
    "\n",
    "if row:\n",
    "    print(\"SIGNED IN\")\n",
    "else:\n",
    "    print(\"WRONG\")"
   ]
  },
  {
   "cell_type": "code",
   "execution_count": 4,
   "metadata": {},
   "outputs": [],
   "source": [
    "our_account_id = row[0]"
   ]
  },
  {
   "cell_type": "code",
   "execution_count": 5,
   "metadata": {},
   "outputs": [
    {
     "name": "stdout",
     "output_type": "stream",
     "text": [
      "(5, 'Lucas Duncan', 'TESTINGLucas Duncan', 8, 3, 6, 5.375)\n",
      "(2, 'Gavin Heslip', 'TESTINGGavin Heslip', 11, 3, 6, 6.2727272727272725)\n",
      "(4, 'Zach Reid', 'TESTINGZach Reid', 10, 6, 8, 5.4)\n",
      "(8, 'Kylie Tan', 'TESTINGKylie Tan', 11, 4, 1, 5.636363636363637)\n",
      "(3, 'Hashim Jama', 'TESTINGHashim Jama', 10, 4, 5, 5.3)\n",
      "(9, 'Bertha Blue', 'TESTINGBertha Blue', 9, 2, 1, 4.777777777777778)\n",
      "(6, 'John Doe', 'TESTINGJohn Doe', 13, 4, 5, 4.615384615384615)\n",
      "(7, 'Jane Smith', 'TESTINGJane Smith', 10, 7, 2, 6.5)\n",
      "(1, 'Venkat Gunturi', 'TESTINGVenkat Gunturi', 11, 4, 2, 5.0)\n",
      "(10, 'Tiffany Stoik', 'TESTINGTiffany Stoik', 8, 3, 4, 6.25)\n",
      "5\n"
     ]
    }
   ],
   "source": [
    "#Search Account By Name\n",
    "cur.execute(sq.get_searched_account(),(\"%TESTING%\",))\n",
    "possible_matchs = cur.fetchall()\n",
    "\n",
    "for match in possible_matchs:\n",
    "    print(match)\n",
    "\n",
    "#the one we want\n",
    "account_id_selected = possible_matchs[0][0]\n",
    "print(account_id_selected)"
   ]
  },
  {
   "cell_type": "code",
   "execution_count": 6,
   "metadata": {},
   "outputs": [],
   "source": [
    "#Start Following \n",
    "cur.execute(sq.add_following(), (our_account_id, account_id_selected))"
   ]
  },
  {
   "cell_type": "code",
   "execution_count": 7,
   "metadata": {},
   "outputs": [
    {
     "name": "stdout",
     "output_type": "stream",
     "text": [
      "[(5, 'Lucas Duncan', 'TESTINGLucas Duncan', 8, 4, 6, 5.375)]\n",
      "[(13, 'Lucas', 'ldunc01', '9032023931', 'ldunc19@hotmail.com', 0, 0, 1, None)]\n"
     ]
    }
   ],
   "source": [
    "#Get Their Account Info\n",
    "cur.execute(sq.get_account_summary(), (account_id_selected,))\n",
    "print(cur.fetchall())\n",
    "\n",
    "#Get Account Info For Our Account\n",
    "cur.execute(sq.get_self_summary(), (our_account_id,))\n",
    "print(cur.fetchall())"
   ]
  },
  {
   "cell_type": "code",
   "execution_count": 8,
   "metadata": {},
   "outputs": [
    {
     "name": "stdout",
     "output_type": "stream",
     "text": [
      "('Pulp Fiction', 3.0, -4.2857137, 'TESTING', 'Crime', 'Movie')\n",
      "('Star Wars: Episode V - The Empire Strikes Back', 6.0, 1.3333335, 'TESTING', 'Fantasy', 'Movie')\n",
      "('Interstellar', 2.0, -2.8999996, 'TESTING', 'Sci-Fi', 'Movie')\n",
      "('The Matrix', 10.0, 4.3, 'TESTING', 'Action', 'Movie')\n",
      "('The Lion King', 7.0, 2.5, 'TESTING', 'Animation', 'Movie')\n",
      "('The Godfather', 9.0, 4.5, 'TESTING', 'Crime', 'Movie')\n",
      "('Forrest Gump', 2.0, -3.5, 'TESTING', 'Drama', 'Movie')\n",
      "('Inception', 4.0, 0.33333325, 'TESTING', 'Sci-Fi', 'Movie')\n"
     ]
    }
   ],
   "source": [
    "#Get List Of Reviews Made By Account (for account info of self or others)\n",
    "\n",
    "cur.execute(sq.get_account_review(),(account_id_selected,))\n",
    "reviews = cur.fetchall()\n",
    "\n",
    "for review in reviews:\n",
    "    print(review)"
   ]
  },
  {
   "cell_type": "code",
   "execution_count": 9,
   "metadata": {},
   "outputs": [
    {
     "name": "stdout",
     "output_type": "stream",
     "text": [
      "(3, 'Hashim Jama', 10, 5, 4)\n",
      "(4, 'Zach Reid', 10, 8, 6)\n",
      "(6, 'John Doe', 13, 5, 4)\n",
      "(13, 'Lucas', 0, 1, 0)\n"
     ]
    }
   ],
   "source": [
    "#Get List of follows\n",
    "cur.execute(sq.get_account_follows(), (account_id_selected,))\n",
    "follows = cur.fetchall()\n",
    "\n",
    "for follow in follows:\n",
    "    print(follow)\n"
   ]
  },
  {
   "cell_type": "code",
   "execution_count": 10,
   "metadata": {},
   "outputs": [
    {
     "name": "stdout",
     "output_type": "stream",
     "text": [
      "(10, 'Tiffany Stoik', 8, 4, 3)\n",
      "(4, 'Zach Reid', 10, 8, 6)\n",
      "(1, 'Venkat Gunturi', 11, 2, 4)\n",
      "(8, 'Kylie Tan', 11, 1, 4)\n",
      "(9, 'Bertha Blue', 9, 1, 2)\n",
      "(7, 'Jane Smith', 10, 2, 7)\n"
     ]
    }
   ],
   "source": [
    "#Get list of followers\n",
    "cur.execute(sq.get_account_following(), (account_id_selected,))\n",
    "followings = cur.fetchall()\n",
    "\n",
    "for following in followings:\n",
    "    print(following)"
   ]
  },
  {
   "cell_type": "code",
   "execution_count": 11,
   "metadata": {},
   "outputs": [
    {
     "name": "stdout",
     "output_type": "stream",
     "text": [
      "(8, 'The Matrix', 1, 3, datetime.date(2069, 1, 10), 'TESTING', 'TESTING', 5.7, 10)\n",
      "(10, 'The Lord of the Rings: The Fellowship of the Ring', 1, 2, datetime.date(2069, 1, 10), 'TESTING', 'TESTING', 8.0, 2)\n",
      "(17, 'The Lion King', 1, 12, datetime.date(2069, 1, 10), 'TESTING', 'TESTING', 4.5, 8)\n",
      "(2, 'The Godfather', 1, 8, datetime.date(2069, 1, 10), 'TESTING', 'TESTING', 4.5, 10)\n",
      "(12, 'The Silence of the Lambs', 1, 10, datetime.date(2069, 1, 10), 'TESTING', 'TESTING', 6.714286, 7)\n",
      "(3, 'The Dark Knight', 1, 3, datetime.date(2069, 1, 10), 'TESTING', 'TESTING', 8.5, 2)\n",
      "(11, 'Star Wars: Episode V - The Empire Strikes Back', 1, 2, datetime.date(2069, 1, 10), 'TESTING', 'TESTING', 4.6666665, 3)\n",
      "(19, 'The Departed', 1, 8, datetime.date(2069, 1, 10), 'TESTING', 'TESTING', 7.8, 5)\n",
      "(1, 'The Shawshank Redemption', 1, 7, datetime.date(2069, 1, 10), 'TESTING', 'TESTING', 10.0, 2)\n",
      "(14, 'The Green Mile', 1, 7, datetime.date(2069, 1, 10), 'TESTING', 'TESTING', 4.0, 9)\n"
     ]
    }
   ],
   "source": [
    "#Add A review (1)\n",
    "\n",
    "#search for a name,\n",
    "cur.execute(sq.get_searched_media(), ('%The%',))\n",
    "media = cur.fetchall()\n",
    "\n",
    "for single_media in media:\n",
    "    print(single_media)\n",
    "\n",
    "id_of_media_we_want_to_review = media[2][0]"
   ]
  },
  {
   "cell_type": "code",
   "execution_count": 12,
   "metadata": {},
   "outputs": [],
   "source": [
    "#Add A review (2)\n",
    "\n",
    "#Upload review\n",
    "cur.execute(sq.add_review(), (our_account_id, id_of_media_we_want_to_review, 7.5, \"This Movie Was Good\"))\n",
    "conn.commit()"
   ]
  },
  {
   "cell_type": "code",
   "execution_count": 13,
   "metadata": {},
   "outputs": [
    {
     "name": "stdout",
     "output_type": "stream",
     "text": [
      "('Movie', 'Action', 'The Matrix', 'Lucas Duncan', 10.0, 4.3, 'TESTING')\n",
      "('Movie', 'Crime', 'Pulp Fiction', 'Lucas Duncan', 3.0, -4.2857137, 'TESTING')\n",
      "('Movie', 'Animation', 'The Lion King', 'Lucas Duncan', 7.0, 2.1666665, 'TESTING')\n",
      "('Movie', 'Crime', 'The Godfather', 'Lucas Duncan', 9.0, 4.5, 'TESTING')\n",
      "('Movie', 'Fantasy', 'Star Wars: Episode V - The Empire Strikes Back', 'Lucas Duncan', 6.0, 1.3333335, 'TESTING')\n",
      "('Movie', 'Sci-Fi', 'Inception', 'Lucas Duncan', 4.0, 0.33333325, 'TESTING')\n",
      "('Movie', 'Drama', 'Forrest Gump', 'Lucas Duncan', 2.0, -3.5, 'TESTING')\n",
      "('Movie', 'Sci-Fi', 'Interstellar', 'Lucas Duncan', 2.0, -2.8999996, 'TESTING')\n"
     ]
    }
   ],
   "source": [
    "#Get Recent Activity Among Followers\n",
    "cur.execute(sq.get_account_recent(), (our_account_id,))\n",
    "\n",
    "for recent in cur.fetchall():\n",
    "    print(recent)"
   ]
  },
  {
   "cell_type": "code",
   "execution_count": 14,
   "metadata": {},
   "outputs": [],
   "source": [
    "#Delete A Following()\n",
    "cur.execute(sq.delete_following(),(our_account_id, account_id_selected))\n",
    "conn.commit()"
   ]
  },
  {
   "cell_type": "code",
   "execution_count": 15,
   "metadata": {},
   "outputs": [
    {
     "name": "stdout",
     "output_type": "stream",
     "text": [
      "[(17, 'The Lion King', 1, 12, datetime.date(2069, 1, 10), 'TESTING', 'TESTING', 4.8333335, 9)]\n"
     ]
    }
   ],
   "source": [
    "#Get Media Details Given Its Id\n",
    "\n",
    "cur.execute(sq.get_media(), (id_of_media_we_want_to_review,))\n",
    "print(cur.fetchall())"
   ]
  }
 ],
 "metadata": {
  "kernelspec": {
   "display_name": "Python 3",
   "language": "python",
   "name": "python3"
  },
  "language_info": {
   "codemirror_mode": {
    "name": "ipython",
    "version": 3
   },
   "file_extension": ".py",
   "mimetype": "text/x-python",
   "name": "python",
   "nbconvert_exporter": "python",
   "pygments_lexer": "ipython3",
   "version": "3.11.5"
  }
 },
 "nbformat": 4,
 "nbformat_minor": 2
}
