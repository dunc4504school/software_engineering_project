{
 "cells": [
  {
   "cell_type": "code",
   "execution_count": 9,
   "metadata": {},
   "outputs": [],
   "source": [
    "import psycopg2\n",
    "from psycopg2.extras import execute_values\n",
    "\n",
    "conn = psycopg2.connect(\n",
    "    dbname='testing',\n",
    "    user='postgres',\n",
    "    password='password',\n",
    "    host='localhost',\n",
    "    port='5432'\n",
    ")\n",
    "cur = conn.cursor()\n",
    "\n",
    "\n",
    "\n",
    "\n",
    "\n",
    "\n",
    "query_add_media_type = \"\"\"INSERT INTO media_type (name) VALUES (%s)\"\"\"\n",
    "\n",
    "query_add_media_genre = \"\"\"INSERT INTO media_genre (name) VALUES (%s)\"\"\"\n",
    "\n",
    "query_add_media = \"\"\"INSERT INTO media(name) VALUES (%s)\"\"\"\n",
    "\n",
    "query_add_account = \"\"\"\n",
    "    INSERT INTO account(name, date_created, total_reviews)\n",
    "    VALUES (%s, CURRENT_DATE, 0)\"\"\""
   ]
  },
  {
   "cell_type": "code",
   "execution_count": 7,
   "metadata": {},
   "outputs": [],
   "source": [
    "cur.execute(\"\"\"\n",
    "    DELETE from following;\n",
    "    DELETE from review;\n",
    "    DELETE from account;\n",
    "\"\"\")\n",
    "conn.commit()"
   ]
  },
  {
   "cell_type": "code",
   "execution_count": 17,
   "metadata": {},
   "outputs": [],
   "source": [
    "#Should Be Done Before\n",
    "\n",
    "genres = ['Horror', 'Fantasy', 'Action', 'Adventure', 'Romance', 'Documentary']\n",
    "cur.executemany(query_add_media_type, [(type,) for type in types])\n",
    "\n",
    "types = ['Movie', 'Tv-Show']\n",
    "cur.executemany(query_add_media_genre, [(genre,) for genre in genres])\n",
    "\n",
    "conn.commit()\n"
   ]
  },
  {
   "cell_type": "code",
   "execution_count": 21,
   "metadata": {},
   "outputs": [],
   "source": [
    "#Here might be where batch upload from external source might occur\n",
    "\n",
    "#First Movies (should be a superset for reviews to come)\n",
    "\n",
    "cur.executemany(query_add_media, [(media,) for media in movies])\n",
    "conn.commit()\n",
    "\n",
    "\n",
    "#Then Reviews\n",
    "\n",
    "...\n",
    "...\n",
    "..."
   ]
  },
  {
   "cell_type": "code",
   "execution_count": 11,
   "metadata": {},
   "outputs": [],
   "source": [
    "#Sample Local Data (Created For Testing)\n",
    "\n",
    "\n",
    "account_names = ['Venkat Gunturi', 'Gavin Heslip', 'Hashim Jama', \n",
    "                 'Zach Reid', 'Lucas Duncan', 'John Doe', 'Jane Smith',\n",
    "                 'Kylie Tan', 'Bertha Blue', 'Tiffany Stoik']\n",
    "\n",
    "cur.executemany(query_add_account, [(account,) for account in account_names])\n",
    "conn.commit()\n",
    "\n",
    "\n",
    "\n",
    "\n",
    "\n"
   ]
  },
  {
   "cell_type": "code",
   "execution_count": 24,
   "metadata": {},
   "outputs": [],
   "source": [
    "\n",
    "\n",
    "cur.execute(query_add_account, (\"Lucas Duncan\",))\n",
    "cur.execute(query_add_account, (\"John Doe\",))\n",
    "conn.commit()\n"
   ]
  },
  {
   "cell_type": "code",
   "execution_count": 2,
   "metadata": {},
   "outputs": [],
   "source": [
    "query_get_media_id = \"\"\"\n",
    "    SELECT id from media where name = %s\n",
    "\"\"\"\n",
    "\n",
    "cur.execute(query_get_media_id, (\"The Godfather\",))\n",
    "\n",
    "media_id = cur.fetchall()[0][0]"
   ]
  },
  {
   "cell_type": "code",
   "execution_count": 4,
   "metadata": {},
   "outputs": [],
   "source": [
    "query_get_account_id = \"\"\" \n",
    "    SELECT id from account where name = %s\n",
    "\"\"\"\n",
    "\n",
    "cur.execute(query_get_account_id, (\"Lucas Duncan\",))\n",
    "account_id = cur.fetchall()[0][0]"
   ]
  },
  {
   "cell_type": "code",
   "execution_count": 4,
   "metadata": {},
   "outputs": [],
   "source": [
    "query_add_review = \"\"\"\n",
    "    INSERT INTO review(account_id, media_id, rating, description, date_reviewed)\n",
    "    VALUES (%s, %s, %s, %s, CURRENT_DATE)\n",
    "\"\"\"\n",
    "\n",
    "cur.execute(query_add_review, (account_id, media_id, 8.5, \"Good\",))\n",
    "conn.commit()"
   ]
  },
  {
   "cell_type": "code",
   "execution_count": 5,
   "metadata": {},
   "outputs": [],
   "source": [
    "query_add_follower = \"\"\"\n",
    "    INSERT INTO following (account_id, follows_id, date_followed)\n",
    "    VALUES (%s, %s, CURRENT_DATE);\n",
    "\"\"\"\n",
    "\n",
    "cur.execute(query_get_account_id, (\"John Doe\",))\n",
    "account_id2 = cur.fetchall()[0][0]\n",
    "\n",
    "cur.execute(query_add_follower, (account_id2, account_id))\n",
    "conn.commit()\n"
   ]
  },
  {
   "cell_type": "code",
   "execution_count": null,
   "metadata": {},
   "outputs": [],
   "source": [
    "query_follows = \"\"\"\n",
    "    SELECT u.id, u.name, u.total_reviews\n",
    "    FROM following f\n",
    "    JOIN account a on f.account_id = u.id\n",
    "    WHERE f.follows_id = %s;\n",
    "\"\"\"\n",
    "\n",
    "query_following = \"\"\"\n",
    "    SELECT u.id, u.name, u.total_reviews \n",
    "    FROM following f\n",
    "    JOIN account a ON f.follows_id = u.id\n",
    "    WHERE f.account_id = %s;\n",
    "\"\"\"\n",
    "\n",
    "query_account_reviews = \"\"\"\n",
    "    SELECT r.id, r.rating, r.description\n",
    "    FROM review r\n",
    "    WHERE r.account_id = %s;\n",
    "\"\"\"\n",
    "query_genre_media_search_all = \"\"\"\n",
    "    SELECT m.id, m.name, AVG(r.rating) AS average_rating, COUNT(r.id) AS review_count\n",
    "    FROM media m\n",
    "    JOIN review r ON m.id = r.media_id\n",
    "    WHERE m.genre = %s AND m.type = %s\n",
    "    GROUP BY m.id, m.name\n",
    "    ORDER BY average_rating DESC;\n",
    "\"\"\"\n",
    "\n",
    "query_genre_media_search_following = \"\"\"\n",
    "    SELECT m.id, m.name, AVG(r.rating) AS average_rating, COUNT(r.id) AS review_count\n",
    "    FROM media m\n",
    "    JOIN review r ON m.id = r.media_id\n",
    "    JOIN media_genre g ON m.genre = g.id\n",
    "    JOIN following f ON r.account_id = f.follows_id\n",
    "    WHERE m.genre = %s AND m.type = %s AND f.account_id = %s\n",
    "    GROUP BY m.id, m.name\n",
    "    ORDER BY average_rating DESC;\n",
    "\"\"\"\n",
    "\n",
    "query_genre_media_search_compare = \"\"\"\n",
    "    SELECT m.id, m.name,\n",
    "       AVG(CASE WHEN f.account_id IS NOT NULL THEN r.rating END) AS avg_rating_followed,\n",
    "       AVG(CASE WHEN f.account_id IS NULL THEN r.rating END) AS avg_rating_not_followed\n",
    "    FROM media m\n",
    "    JOIN review r ON m.id = r.media_id\n",
    "    JOIN media_genre g ON m.genre = g.id\n",
    "    LEFT JOIN following f ON r.account_id = f.follows_id AND f.account_id = %s\n",
    "    WHERE m.genre = %s AND m.type = %s\n",
    "    GROUP BY m.id, m.name;\n",
    "\"\"\"\n",
    "\n",
    "query_see_recent_follower_reviews = \"\"\"\n",
    "    SELECT r.id, r.rating, r.description\n",
    "    FROM review r\n",
    "    JOIN account a ON r.account_id = u.id\n",
    "    WHERE u.id IN (\n",
    "        SELECT follows_id\n",
    "        FROM following\n",
    "        WHERE account_id = %s\n",
    "        ORDER BY follows_id DESC\n",
    "        LIMIT 20 \n",
    "    );\n",
    "\"\"\""
   ]
  },
  {
   "cell_type": "code",
   "execution_count": null,
   "metadata": {},
   "outputs": [],
   "source": []
  }
 ],
 "metadata": {
  "kernelspec": {
   "display_name": "Python 3",
   "language": "python",
   "name": "python3"
  },
  "language_info": {
   "codemirror_mode": {
    "name": "ipython",
    "version": 3
   },
   "file_extension": ".py",
   "mimetype": "text/x-python",
   "name": "python",
   "nbconvert_exporter": "python",
   "pygments_lexer": "ipython3",
   "version": "3.11.5"
  }
 },
 "nbformat": 4,
 "nbformat_minor": 2
}
